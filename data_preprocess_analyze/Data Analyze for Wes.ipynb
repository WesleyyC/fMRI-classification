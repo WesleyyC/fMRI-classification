{
 "cells": [
  {
   "cell_type": "code",
   "execution_count": 1,
   "metadata": {
    "collapsed": true
   },
   "outputs": [],
   "source": [
    "%matplotlib inline\n",
    "\n",
    "import numpy as np\n",
    "import scipy\n",
    "import pandas as pd\n",
    "import seaborn as sns\n",
    "from matplotlib import pyplot as plt\n",
    "import pylab\n",
    "from sklearn.decomposition import PCA\n",
    "from sklearn.utils import shuffle\n",
    "\n",
    "plt.style.use('ggplot')"
   ]
  },
  {
   "cell_type": "code",
   "execution_count": 7,
   "metadata": {},
   "outputs": [
    {
     "name": "stdout",
     "output_type": "stream",
     "text": [
      "['faces' 'left_foot' 'visual_digits' 'left_hand' 'calculation' 'language'\n",
      " 'horizontal_checkerboard' 'human_sound' 'vertical_checkerboard' 'objects'\n",
      " 'places' 'scramble' 'right_hand' 'right_foot' 'visual_words' 'visual'\n",
      " 'non_human_sound' 'auditory' 'saccades']\n"
     ]
    }
   ],
   "source": [
    "feature_label = np.load('../data/tag_name.npy')\n",
    "train_X = np.load('../data/train_X.npy')\n",
    "train_binary_Y = np.load('../data/train_binary_Y.npy')\n",
    "valid_test_X = np.load('../data/valid_test_X.npy')"
   ]
  },
  {
   "cell_type": "code",
   "execution_count": 9,
   "metadata": {},
   "outputs": [
    {
     "name": "stdout",
     "output_type": "stream",
     "text": [
      "['faces' 'left_foot' 'visual_digits' 'left_hand' 'calculation' 'language'\n",
      " 'horizontal_checkerboard' 'human_sound' 'vertical_checkerboard' 'objects'\n",
      " 'places' 'scramble' 'right_hand' 'right_foot' 'visual_words' 'visual'\n",
      " 'non_human_sound' 'auditory' 'saccades']\n",
      "train_X shape: (4602, 26, 31, 23)\n",
      "train_binary_Y shape: (4602, 19)\n",
      "valid_test_X shape: (1971, 26, 31, 23)\n"
     ]
    }
   ],
   "source": [
    "print(feature_label)\n",
    "print(\"train_X shape: \" + str(train_X.shape))\n",
    "print(\"train_binary_Y shape: \" + str(train_binary_Y.shape))\n",
    "print(\"valid_test_X shape: \" + str(valid_test_X.shape))"
   ]
  }
 ],
 "metadata": {
  "kernelspec": {
   "display_name": "Python 2",
   "language": "python",
   "name": "python2"
  },
  "language_info": {
   "codemirror_mode": {
    "name": "ipython",
    "version": 3
   },
   "file_extension": ".py",
   "mimetype": "text/x-python",
   "name": "python",
   "nbconvert_exporter": "python",
   "pygments_lexer": "ipython3",
   "version": "3.6.1"
  }
 },
 "nbformat": 4,
 "nbformat_minor": 2
}
