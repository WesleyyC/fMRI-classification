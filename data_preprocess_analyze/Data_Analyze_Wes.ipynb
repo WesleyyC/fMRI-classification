{
 "cells": [
  {
   "cell_type": "code",
   "execution_count": 1,
   "metadata": {
    "collapsed": true
   },
   "outputs": [],
   "source": [
    "%matplotlib inline\n",
    "\n",
    "import numpy as np\n",
    "import scipy\n",
    "import pandas as pd\n",
    "import seaborn as sns\n",
    "from matplotlib import pyplot as plt\n",
    "import pylab\n",
    "from sklearn.decomposition import PCA\n",
    "from sklearn.utils import shuffle\n",
    "\n",
    "from scipy.ndimage import gaussian_filter,maximum_filter\n",
    "\n",
    "import skimage.measure\n",
    "\n",
    "\n",
    "plt.style.use('ggplot')"
   ]
  },
  {
   "cell_type": "code",
   "execution_count": 2,
   "metadata": {
    "collapsed": true
   },
   "outputs": [],
   "source": [
    "feature_label = np.load('../data/tag_name.npy')\n",
    "train_X = np.load('../data/train_X.npy')\n",
    "train_binary_Y = np.load('../data/train_binary_Y.npy')\n",
    "valid_test_X = np.load('../data/valid_test_X.npy')"
   ]
  },
  {
   "cell_type": "code",
   "execution_count": 3,
   "metadata": {},
   "outputs": [
    {
     "name": "stdout",
     "output_type": "stream",
     "text": [
      "['faces' 'left_foot' 'visual_digits' 'left_hand' 'calculation' 'language'\n",
      " 'horizontal_checkerboard' 'human_sound' 'vertical_checkerboard' 'objects'\n",
      " 'places' 'scramble' 'right_hand' 'right_foot' 'visual_words' 'visual'\n",
      " 'non_human_sound' 'auditory' 'saccades']\n",
      "feature_label shape: (19,)\n",
      "train_X shape: (4602, 26, 31, 23)\n",
      "train_binary_Y shape: (4602, 19)\n",
      "valid_test_X shape: (1971, 26, 31, 23)\n"
     ]
    }
   ],
   "source": [
    "print(feature_label)\n",
    "print(\"feature_label shape: \" + str(feature_label.shape))\n",
    "print(\"train_X shape: \" + str(train_X.shape))\n",
    "print(\"train_binary_Y shape: \" + str(train_binary_Y.shape))\n",
    "print(\"valid_test_X shape: \" + str(valid_test_X.shape))"
   ]
  },
  {
   "cell_type": "code",
   "execution_count": 4,
   "metadata": {},
   "outputs": [
    {
     "data": {
      "text/plain": [
       "<matplotlib.axes._subplots.AxesSubplot at 0x117b41860>"
      ]
     },
     "execution_count": 4,
     "metadata": {},
     "output_type": "execute_result"
    },
    {
     "data": {
      "image/png": "[encoded data removed]",
      "text/plain": [
       "<matplotlib.figure.Figure at 0x10c1f2a20>"
      ]
     },
     "metadata": {},
     "output_type": "display_data"
    }
   ],
   "source": [
    "import pandas as pd\n",
    "import seaborn as sns\n",
    "\n",
    "df = pd.DataFrame(train_binary_Y)\n",
    "corr = df.corr()\n",
    "sns.heatmap(corr, \n",
    "        xticklabels=corr.columns,\n",
    "        yticklabels=corr.columns)"
   ]
  },
  {
   "cell_type": "code",
   "execution_count": null,
   "metadata": {},
   "outputs": [],
   "source": [
    "np.corrcoef(np.transpose(train_binary_Y))[14,1]"
   ]
  },
  {
   "cell_type": "code",
   "execution_count": 52,
   "metadata": {},
   "outputs": [],
   "source": [
    "def resample_data(X, Y):\n",
    "    label_distr = np.sum(Y, axis=0)\n",
    "    label_freq = np.percentile(label_distr, 100) / label_distr\n",
    "\n",
    "    resample_Y = []\n",
    "    resample_X = []\n",
    "\n",
    "    for i in range(len(X)):\n",
    "\n",
    "        if Y[i][1] == 1 or Y[i][13] == 1:\n",
    "            count = 10\n",
    "        elif Y[i][18]:\n",
    "            count = 3\n",
    "        elif Y[i][11]:\n",
    "            count = 3\n",
    "        elif Y[i][0]:\n",
    "            count = 2\n",
    "        elif Y[i][2]:\n",
    "            count = 2\n",
    "        elif Y[i][6]:\n",
    "            count = 2\n",
    "        elif Y[i][8]:\n",
    "            count = 2\n",
    "        elif Y[i][10]:\n",
    "            count = 2\n",
    "        else:\n",
    "            count = 1\n",
    "\n",
    "        for _ in range(count):\n",
    "            resample_Y.append(Y[i])\n",
    "            resample_X.append(X[i])\n",
    "\n",
    "    resample_X = np.array(resample_X)\n",
    "    resample_Y = np.array(resample_Y)\n",
    "\n",
    "    return shuffle(resample_X, resample_Y)\n",
    "\n",
    "resample_train_X, resample_train_binary_Y = resample_data(train_X, train_binary_Y)"
   ]
  },
  {
   "cell_type": "code",
   "execution_count": 53,
   "metadata": {},
   "outputs": [
    {
     "name": "stdout",
     "output_type": "stream",
     "text": [
      "[ 203   34  177  399  415  984  165  268  168  794  131  110 1164   38 1361\n",
      " 3428  314 1284   96]\n",
      "[ 406  340  354  416  453  984  330  268  336  794  262  330 1301  380 1361\n",
      " 5288  314 1284  288]\n"
     ]
    }
   ],
   "source": [
    "print(np.sum(train_binary_Y,axis=0))\n",
    "print(np.sum(resample_train_binary_Y,axis=0))"
   ]
  },
  {
   "cell_type": "code",
   "execution_count": null,
   "metadata": {
    "collapsed": true
   },
   "outputs": [],
   "source": [
    "np.save('../data/resample_train_X.npy',resample_train_X)\n",
    "np.save('../data/resample_train_binary_Y.npy', resample_train_binary_Y)"
   ]
  },
  {
   "cell_type": "code",
   "execution_count": null,
   "metadata": {
    "collapsed": true
   },
   "outputs": [],
   "source": [
    "no_sample = 3\n",
    "image = train_X[no_sample]\n",
    "plt.figure(figsize=(16,8))\n",
    "plt.hist(image.flatten(), bins=20)\n",
    "plt.show()"
   ]
  },
  {
   "cell_type": "code",
   "execution_count": 5,
   "metadata": {},
   "outputs": [
    {
     "data": {
      "image/png": "[encoded data removed]",
      "text/plain": [
       "<matplotlib.figure.Figure at 0x1554dcf28>"
      ]
     },
     "metadata": {},
     "output_type": "display_data"
    }
   ],
   "source": [
    "def plot_shape(image, dimension_0, dimension_1, dimension_2):\n",
    "    \n",
    "    plt.figure(figsize=(16,8))\n",
    "    \n",
    "    cmap = 'viridis'\n",
    "    \n",
    "    plt.subplot(1, 3, 1)\n",
    "    plt.imshow(image[dimension_0,:,:],cmap=cmap)\n",
    "    \n",
    "    plt.subplot(1, 3, 2)\n",
    "    plt.imshow(image[:,dimension_1,:],cmap=cmap)\n",
    "    \n",
    "    plt.subplot(1, 3, 3)\n",
    "    plt.imshow(image[:,:,dimension_2],cmap=cmap)        \n",
    "    \n",
    "    plt.colorbar()\n",
    "    \n",
    "    plt.show()\n",
    "\n",
    "\n",
    "sample_no = 100\n",
    "dimension_0 = 10\n",
    "dimension_1 = 12\n",
    "dimension_2 = 20\n",
    "\n",
    "image = train_X[sample_no]\n",
    "plot_shape(image, dimension_0, dimension_1, dimension_2)"
   ]
  },
  {
   "cell_type": "code",
   "execution_count": 11,
   "metadata": {
    "collapsed": true
   },
   "outputs": [],
   "source": [
    "def normalized_data(images):\n",
    "    normed = np.zeros(images.shape)\n",
    "    for idx, image in enumerate(images):\n",
    "        normed[idx] = gaussian_filter(image, sigma=.5)\n",
    "        np.multiply(normed[idx], (normed[idx] > np.percentile(normed[idx].flatten(), 90)))\n",
    "    return normed\n",
    "\n",
    "normalized_train_X = normalized_data(train_X)"
   ]
  },
  {
   "cell_type": "code",
   "execution_count": 12,
   "metadata": {},
   "outputs": [
    {
     "data": {
      "image/png": "[encoded data removed]",
      "text/plain": [
       "<matplotlib.figure.Figure at 0x17f1fbc88>"
      ]
     },
     "metadata": {},
     "output_type": "display_data"
    }
   ],
   "source": [
    "def plot_shape(image, dimension_0, dimension_1, dimension_2):\n",
    "    \n",
    "    plt.figure(figsize=(16,8))\n",
    "    \n",
    "    cmap = 'viridis'\n",
    "    \n",
    "    plt.subplot(1, 3, 1)\n",
    "    plt.imshow(image[dimension_0,:,:],cmap=cmap)\n",
    "    \n",
    "    plt.subplot(1, 3, 2)\n",
    "    plt.imshow(image[:,dimension_1,:],cmap=cmap)\n",
    "    \n",
    "    plt.subplot(1, 3, 3)\n",
    "    plt.imshow(image[:,:,dimension_2],cmap=cmap)        \n",
    "    \n",
    "    plt.colorbar()\n",
    "    \n",
    "    plt.show()\n",
    "    \n",
    "sample_no = 100\n",
    "dimension_0 = 10\n",
    "dimension_1 = 12\n",
    "dimension_2 = 20\n",
    "\n",
    "image = normalized_train_X[sample_no]\n",
    "plot_shape(image, dimension_0, dimension_1, dimension_2)"
   ]
  },
  {
   "cell_type": "code",
   "execution_count": null,
   "metadata": {
    "collapsed": true
   },
   "outputs": [],
   "source": [
    "sample_no = 100\n",
    "\n",
    "image = normalized_train_X[sample_no]\n",
    "np.percentile(image.flatten(),90)"
   ]
  },
  {
   "cell_type": "code",
   "execution_count": null,
   "metadata": {
    "collapsed": true
   },
   "outputs": [],
   "source": [
    "sample_no = 100\n",
    "\n",
    "image = normalized_train_X[sample_no]\n",
    "\n",
    "plt.figure(figsize=(16,8))\n",
    "    \n",
    "cmap = 'viridis'\n",
    "\n",
    "plt.subplot(1, 3, 1)\n",
    "plt.imshow(np.max(image, axis=0),cmap=cmap)\n",
    "\n",
    "plt.subplot(1, 3, 2)\n",
    "plt.imshow(np.max(image, axis=1),cmap=cmap)\n",
    "\n",
    "plt.subplot(1, 3, 3)\n",
    "plt.imshow(np.max(image, axis=2),cmap=cmap)        \n",
    "\n",
    "plt.colorbar()\n",
    "\n",
    "plt.show()"
   ]
  },
  {
   "cell_type": "code",
   "execution_count": null,
   "metadata": {
    "collapsed": true
   },
   "outputs": [],
   "source": [
    "sample_no = 100\n",
    "\n",
    "image = normalized_train_X[sample_no]\n",
    "\n",
    "def process_image(image):\n",
    "    image = skimage.measure.block_reduce(image, (2,2), np.max)\n",
    "    return image\n",
    "\n",
    "plt.figure(figsize=(16,8))\n",
    "    \n",
    "cmap = 'viridis'\n",
    "\n",
    "plt.subplot(1, 3, 1)\n",
    "plt.imshow(process_image(np.max(image, axis=0)),cmap=cmap)\n",
    "\n",
    "plt.subplot(1, 3, 2)\n",
    "plt.imshow(process_image(np.max(image, axis=1)),cmap=cmap)\n",
    "\n",
    "plt.subplot(1, 3, 3)\n",
    "plt.imshow(process_image(np.max(image, axis=2)),cmap=cmap)        \n",
    "\n",
    "plt.colorbar()\n",
    "\n",
    "plt.show()"
   ]
  },
  {
   "cell_type": "code",
   "execution_count": null,
   "metadata": {
    "collapsed": true
   },
   "outputs": [],
   "source": [
    "def process_2dimage(image):\n",
    "#     image = skimage.measure.block_reduce(image, (2,2), np.max)\n",
    "    image = image.flatten()\n",
    "    return image\n",
    "\n",
    "def process_data(images):\n",
    "    processed = []\n",
    "    for image in images:\n",
    "        d1 = np.max(image, axis=0)\n",
    "        d2 = np.max(image, axis=1)\n",
    "        d3 = np.max(image, axis=2)\n",
    "        d1 = process_2dimage(d1)\n",
    "        d2 = process_2dimage(d2)\n",
    "        d3 = process_2dimage(d3)\n",
    "        image = np.concatenate([d1, d2, d3])\n",
    "        processed.append(image)\n",
    "    return np.array(processed)\n",
    "\n",
    "processed_train_X = process_data(normalized_train_X)"
   ]
  },
  {
   "cell_type": "code",
   "execution_count": null,
   "metadata": {
    "collapsed": true
   },
   "outputs": [],
   "source": [
    "processed_train_X.shape"
   ]
  },
  {
   "cell_type": "code",
   "execution_count": null,
   "metadata": {
    "collapsed": true
   },
   "outputs": [],
   "source": [
    "pca = PCA(n_components=300)\n",
    "pca.fit(processed_train_X)\n",
    "\n",
    "cumulated_explained_variance_ratio = np.zeros(len(pca.explained_variance_ratio_))\n",
    "cumulated_explained_variance_ratio[0] = pca.explained_variance_ratio_[0]\n",
    "for i in range(1, len(pca.explained_variance_ratio_)):\n",
    "    cumulated_explained_variance_ratio[i]=cumulated_explained_variance_ratio[i-1]+pca.explained_variance_ratio_[i]\n",
    "plt.figure(figsize=(10,8))\n",
    "plt.plot(cumulated_explained_variance_ratio)\n",
    "plt.title('PCA Component Cumulated Explained Power')\n",
    "plt.xlabel('Feature #')\n",
    "plt.ylabel('Explained Ratio')\n",
    "plt.show()"
   ]
  },
  {
   "cell_type": "code",
   "execution_count": null,
   "metadata": {
    "collapsed": true
   },
   "outputs": [],
   "source": [
    "reduced_train_X=pca.transform(processed_train_X)\n",
    "reduced_train_X.shape"
   ]
  },
  {
   "cell_type": "code",
   "execution_count": null,
   "metadata": {
    "collapsed": true
   },
   "outputs": [],
   "source": [
    "from sklearn.model_selection import train_test_split\n",
    "\n",
    "X_train, X_test, Y_train, Y_test = train_test_split(reduced_train_X, train_binary_Y, test_size=0.1)"
   ]
  },
  {
   "cell_type": "code",
   "execution_count": null,
   "metadata": {
    "collapsed": true
   },
   "outputs": [],
   "source": [
    "from sklearn.tree import DecisionTreeClassifier\n",
    "from sklearn.ensemble import RandomForestClassifier, BaggingClassifier, AdaBoostClassifier\n",
    "from sklearn.linear_model import RidgeClassifier,LogisticRegression\n",
    "from sklearn.neighbors import KNeighborsClassifier\n",
    "from sklearn.svm import SVC\n",
    "\n",
    "\n",
    "labe_no = 5\n",
    "\n",
    "clf = AdaBoostClassifier()\n",
    "clf.fit(X_train, Y_train[:,labe_no])\n",
    "\n",
    "from sklearn.metrics import accuracy_score, roc_auc_score\n",
    "\n",
    "Y_train_predict = clf.predict(X_train)\n",
    "Y_test_predict = clf.predict(X_test)\n",
    "\n",
    "train_subset = accuracy_score(Y_train[:,labe_no], Y_train_predict)\n",
    "test_subset = accuracy_score(Y_test[:,labe_no], Y_test_predict)\n",
    "train_auc = roc_auc_score(Y_train[:,labe_no], Y_train_predict)\n",
    "test_auc = roc_auc_score(Y_test[:,labe_no], Y_test_predict)\n",
    "print(train_subset, test_subset)\n",
    "print(train_auc, test_auc)"
   ]
  },
  {
   "cell_type": "code",
   "execution_count": null,
   "metadata": {
    "collapsed": true
   },
   "outputs": [],
   "source": [
    "from sklearn.tree import DecisionTreeClassifier\n",
    "from sklearn.ensemble import RandomForestClassifier, AdaBoostClassifier,BaggingClassifier\n",
    "from sklearn.linear_model import RidgeClassifier,LogisticRegression\n",
    "from sklearn.neighbors import KNeighborsClassifier\n",
    "from sklearn.svm import SVC\n",
    "\n",
    "clfs=[]\n",
    "\n",
    "for i in range(19):\n",
    "    clf = SVC()\n",
    "    clf.fit(X_train, Y_train[:, i])\n",
    "    clfs.append(clf)"
   ]
  },
  {
   "cell_type": "code",
   "execution_count": null,
   "metadata": {
    "collapsed": true
   },
   "outputs": [],
   "source": [
    "from sklearn.metrics import accuracy_score, roc_auc_score\n",
    "\n",
    "Y_train_predict = np.zeros(Y_train.shape)\n",
    "Y_test_predict = np.zeros(Y_test.shape)\n",
    "\n",
    "for i in range(19):\n",
    "    clf = clfs[i]\n",
    "    Y_train_predict[:,i]=np.round(clf.predict(X_train))\n",
    "    Y_test_predict[:,i]=np.round(clf.predict(X_test))\n",
    "    \n",
    "train_subset = accuracy_score(Y_train, Y_train_predict)\n",
    "test_subset = accuracy_score(Y_test, Y_test_predict)\n",
    "train_auc = roc_auc_score(Y_train, Y_train_predict)\n",
    "test_auc = roc_auc_score(Y_test, Y_test_predict)\n",
    "print(train_subset, test_subset)\n",
    "print(train_auc, test_auc)"
   ]
  }
 ],
 "metadata": {
  "kernelspec": {
   "display_name": "Python 2",
   "language": "python",
   "name": "python2"
  },
  "language_info": {
   "codemirror_mode": {
    "name": "ipython",
    "version": 3
   },
   "file_extension": ".py",
   "mimetype": "text/x-python",
   "name": "python",
   "nbconvert_exporter": "python",
   "pygments_lexer": "ipython3",
   "version": "3.6.1"
  }
 },
 "nbformat": 4,
 "nbformat_minor": 2
}
